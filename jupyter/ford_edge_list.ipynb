{
 "cells": [
  {
   "cell_type": "code",
   "execution_count": 1,
   "metadata": {},
   "outputs": [
    {
     "name": "stdout",
     "output_type": "stream",
     "text": [
      "[('교대', '동대문운동장', 34.0), ('교대', '사당', 7.0), ('교대', '충무로', 18.0), ('동대문운동장', '교대', 34.0), ('동대문운동장', '을지로3가', 3.0), ('동대문운동장', '충무로', 2.0), ('사당', '교대', 7.0), ('사당', '서울역', 16.0), ('사당', '신도림', 17.0), ('서울역', '사당', 16.0), ('서울역', '시청', 2.0), ('서울역', '신도림', 17.0), ('서울역', '충무로', 5.0), ('시청', '서울역', 2.0), ('시청', '신도림', 23.0), ('시청', '을지로3가', 4.0), ('신도림', '사당', 17.0), ('신도림', '서울역', 17.0), ('신도림', '시청', 23.0), ('을지로3가', '동대문운동장', 3.0), ('을지로3가', '시청', 4.0), ('을지로3가', '충무로', 1.0), ('충무로', '교대', 18.0), ('충무로', '동대문운동장', 2.0), ('충무로', '서울역', 5.0), ('충무로', '을지로3가', 1.0)]\n",
      "{'서울역', '을지로3가', '충무로', '동대문운동장', '시청', '교대', '신도림', '사당'}\n"
     ]
    }
   ],
   "source": [
    "g = {'교대': {'동대문운동장': 34.0, '사당': 7.0, '충무로': 18.0},\n",
    " '동대문운동장': {'교대': 34.0, '을지로3가': 3.0, '충무로': 2.0},\n",
    " '사당': {'교대': 7.0, '서울역': 16.0, '신도림': 17.0},\n",
    " '서울역': {'사당': 16.0, '시청': 2.0, '신도림': 17.0, '충무로': 5.0},\n",
    " '시청': {'서울역': 2.0, '신도림': 23.0, '을지로3가': 4.0},\n",
    " '신도림': {'사당': 17.0, '서울역': 17.0, '시청': 23.0},\n",
    " '을지로3가': {'동대문운동장': 3.0, '시청': 4.0, '충무로': 1.0},\n",
    " '충무로': {'교대': 18.0, '동대문운동장': 2.0, '서울역': 5.0, '을지로3가': 1.0}}\n",
    "\n",
    "def dict_to_list(g):\n",
    "    edges = []\n",
    "    nodes = set()\n",
    "    for from_node, to_node_weight in g.items():\n",
    "        nodes.add(from_node)\n",
    "        for to_node, weight in to_node_weight.items():\n",
    "            nodes.add(to_node)\n",
    "            edges.append((from_node, to_node, weight))\n",
    "    return edges, nodes\n",
    "\n",
    "E, V = dict_to_list(g)\n",
    "print(E)\n",
    "print(V)"
   ]
  },
  {
   "cell_type": "code",
   "execution_count": 2,
   "metadata": {},
   "outputs": [
    {
     "data": {
      "text/plain": [
       "(['시청', '을지로3가', '충무로'], 23.0)"
      ]
     },
     "execution_count": 2,
     "metadata": {},
     "output_type": "execute_result"
    }
   ],
   "source": [
    "def ford(E, V, S, T):\n",
    "\n",
    "    ## Initialize ##\n",
    "    # (max weight + 1) * num of nodes\n",
    "    inf = (max((weight for from_, to_, weight in E)) + 1) * len(V)\n",
    "\n",
    "    # distance\n",
    "    d = {node:0 if node == S else inf for node in V}\n",
    "    # previous node\n",
    "    prev = {node:None for node in V}\n",
    "\n",
    "    ## Iteration ##\n",
    "    # preventing infinite loop\n",
    "    for _ in range(len(V)):\n",
    "        # for early stop\n",
    "        changed = False\n",
    "        for U, V, Wuv in E:\n",
    "            d_new = d[U] + Wuv\n",
    "            if d_new < d[V]:\n",
    "                d[V] = d_new\n",
    "                prev[V] = U\n",
    "                changed = True\n",
    "        if not changed:\n",
    "            break\n",
    "\n",
    "    # Checking negative cycle loop\n",
    "    for U, V, Wuv in E:\n",
    "        if d[U] + Wuv < d[V]:\n",
    "            raise ValueError('Negative cycle exists')\n",
    "\n",
    "    # Finding path\n",
    "    prev_ = prev[T]\n",
    "    if prev_ == S:\n",
    "        return [prev_, S][::-1], d[T]\n",
    "\n",
    "    path = []\n",
    "    while prev_ != S:\n",
    "        path.append(prev_)\n",
    "        prev_ = prev[prev_]\n",
    "    path.append(S)\n",
    "\n",
    "    return path[::-1], d[T]\n",
    "\n",
    "ford(E, V, '시청', '교대')"
   ]
  },
  {
   "cell_type": "markdown",
   "metadata": {},
   "source": [
    "## Pseudo code\n",
    "\n",
    "    def ford(G, S, T):\n",
    "\n",
    "        # Initialize\n",
    "        for each vertex V in G:\n",
    "            d[V] <- inf\n",
    "            prev[V] <- None\n",
    "\n",
    "        d[S] <- 0\n",
    "\n",
    "        # Iteration\n",
    "        # preventing infinite loop\n",
    "        for _ range(len(V)):\n",
    "            for each edge (U, V) in G:\n",
    "                d_new = d[U] + w(U, V)\n",
    "                if d_new < d[V]:\n",
    "                    d[V] <- d_new\n",
    "                    prev[V] <- U\n",
    "\n",
    "        # Checking negative cycle loop\n",
    "        for each edge (U, V) in G:\n",
    "            if d[U] + w(U, V) < d[V]:\n",
    "                raise ValueError('Negative cycle exists')\n",
    "\n",
    "        # Finding path\n",
    "        prev_ = prev[T]\n",
    "        if prev_ == S:\n",
    "            return [prev_, S][::-1], d[T]\n",
    "\n",
    "        path = []\n",
    "        while prev_ is not S:\n",
    "            path.append(prev_)\n",
    "            prev_ = prev[prev_]\n",
    "        path.append(S)\n",
    "\n",
    "        return path[::-1], d[T]\n",
    "\n"
   ]
  },
  {
   "cell_type": "code",
   "execution_count": 3,
   "metadata": {
    "collapsed": true
   },
   "outputs": [],
   "source": [
    "import sys\n",
    "sys.path.append('../')\n",
    "from shortestpath import ford"
   ]
  },
  {
   "cell_type": "code",
   "execution_count": 4,
   "metadata": {},
   "outputs": [
    {
     "data": {
      "text/plain": [
       "{'cost': 23.0, 'paths': [['시청', '을지로3가', '충무로']]}"
      ]
     },
     "execution_count": 4,
     "metadata": {},
     "output_type": "execute_result"
    }
   ],
   "source": [
    "ford((E, V), '시청', '교대')"
   ]
  },
  {
   "cell_type": "code",
   "execution_count": null,
   "metadata": {
    "collapsed": true
   },
   "outputs": [],
   "source": []
  }
 ],
 "metadata": {
  "kernelspec": {
   "display_name": "Python 3",
   "language": "python",
   "name": "python3"
  },
  "language_info": {
   "codemirror_mode": {
    "name": "ipython",
    "version": 3
   },
   "file_extension": ".py",
   "mimetype": "text/x-python",
   "name": "python",
   "nbconvert_exporter": "python",
   "pygments_lexer": "ipython3",
   "version": "3.6.2"
  }
 },
 "nbformat": 4,
 "nbformat_minor": 2
}
