{
 "cells": [
  {
   "cell_type": "markdown",
   "metadata": {},
   "source": [
    "## pseudo code\n",
    "\n",
    "ref: from https://www.programiz.com/dsa/dijkstra-algorithm\n",
    "\n",
    "    function dijkstra(G, S)\n",
    "        for each vertex V in G\n",
    "            distance[V] <- infinite\n",
    "            previous[V] <- NULL\n",
    "            If V != S, add V to Priority Queue Q\n",
    "        distance[S] <- 0\n",
    "\n",
    "        while Q IS NOT EMPTY\n",
    "            U <- Extract MIN from Q\n",
    "            for each unvisited neighbour V of U\n",
    "                tempDistance <- distance[U] + edge_weight(U, V)\n",
    "                if tempDistance < distance[V]\n",
    "                    distance[V] <- tempDistance\n",
    "                    previous[V] <- U\n",
    "        return distance[], previous[]"
   ]
  },
  {
   "cell_type": "code",
   "execution_count": null,
   "metadata": {
    "collapsed": true
   },
   "outputs": [],
   "source": []
  }
 ],
 "metadata": {
  "kernelspec": {
   "display_name": "Python 3",
   "language": "python",
   "name": "python3"
  },
  "language_info": {
   "codemirror_mode": {
    "name": "ipython",
    "version": 3
   },
   "file_extension": ".py",
   "mimetype": "text/x-python",
   "name": "python",
   "nbconvert_exporter": "python",
   "pygments_lexer": "ipython3",
   "version": "3.6.2"
  }
 },
 "nbformat": 4,
 "nbformat_minor": 2
}
