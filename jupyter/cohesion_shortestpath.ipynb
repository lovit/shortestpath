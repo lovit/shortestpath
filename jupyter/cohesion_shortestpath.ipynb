{
 "cells": [
  {
   "cell_type": "code",
   "execution_count": 1,
   "metadata": {
    "collapsed": true
   },
   "outputs": [],
   "source": [
    "import sys\n",
    "sys.path.append('../')\n",
    "\n",
    "from config import corpus_path\n",
    "\n",
    "import cohesion_tokenizer\n",
    "from cohesion_tokenizer import CohesionScore\n",
    "from cohesion_tokenizer import WordSequenceGraph"
   ]
  },
  {
   "cell_type": "code",
   "execution_count": 2,
   "metadata": {},
   "outputs": [
    {
     "name": "stdout",
     "output_type": "stream",
     "text": [
      "corpus name = 2016-10-20_article_all_normed.txt\n"
     ]
    }
   ],
   "source": [
    "print('corpus name = {}'.format(corpus_path.split('/')[-1]))"
   ]
  },
  {
   "cell_type": "code",
   "execution_count": 3,
   "metadata": {},
   "outputs": [
    {
     "name": "stdout",
     "output_type": "stream",
     "text": [
      "num sents = 223435\n"
     ]
    }
   ],
   "source": [
    "with open(corpus_path, encoding='utf-8') as f:\n",
    "    sents = [sent.strip() for doc in f for sent in doc.split('  ')]\n",
    "print('num sents = {}'.format(len(sents)))"
   ]
  },
  {
   "cell_type": "code",
   "execution_count": 4,
   "metadata": {
    "collapsed": true
   },
   "outputs": [],
   "source": [
    "import pickle\n",
    "# cohesion = CohesionScore()\n",
    "# cohesion.train(sents)\n",
    "# with open('./cohesion.pkl', 'wb') as f:\n",
    "#     pickle.dump(cohesion, f)\n",
    "with open('./cohesion.pkl', 'rb') as f:\n",
    "    cohesion = pickle.load(f)"
   ]
  },
  {
   "cell_type": "code",
   "execution_count": 5,
   "metadata": {},
   "outputs": [
    {
     "name": "stdout",
     "output_type": "stream",
     "text": [
      "아이오아이 = 0.30039353721795514\n",
      "뉴스 = 0.4855283438945025\n",
      "대통령 = 0.2919357101768181\n",
      "아이돌 = 0.09792934452242717\n"
     ]
    }
   ],
   "source": [
    "for word in '아이오아이 뉴스 대통령 아이돌'.split():\n",
    "    print('{} = {}'.format(word, cohesion[word]))"
   ]
  },
  {
   "cell_type": "code",
   "execution_count": 6,
   "metadata": {},
   "outputs": [
    {
     "name": "stdout",
     "output_type": "stream",
     "text": [
      "아 = 0\n",
      "아이 = 0.14807442926505623\n",
      "아이오 = 0.0962206918738307\n",
      "아이오아 = 0.20118122417377401\n",
      "아이오아이 = 0.30039353721795514\n"
     ]
    }
   ],
   "source": [
    "word = '아이오아이'\n",
    "n = len(word)\n",
    "for i in range(1, n+1):\n",
    "    print('{} = {}'.format(word[:i], cohesion[word[:i]]))"
   ]
  },
  {
   "cell_type": "code",
   "execution_count": 7,
   "metadata": {
    "collapsed": true
   },
   "outputs": [],
   "source": [
    "cost_func = lambda word, word_score: len(word) * (1 - word_score)\n",
    "graph = WordSequenceGraph(cohesion)\n",
    "\n",
    "sent = '아이오아이가뮤직뱅크에출연했습니다'\n",
    "edges = graph.as_graph(sent)"
   ]
  },
  {
   "cell_type": "code",
   "execution_count": 8,
   "metadata": {
    "collapsed": true
   },
   "outputs": [],
   "source": [
    "from shortestpath import list_to_dict_graph\n",
    "\n",
    "g = list_to_dict_graph(edges)"
   ]
  },
  {
   "cell_type": "code",
   "execution_count": 9,
   "metadata": {},
   "outputs": [
    {
     "data": {
      "text/plain": [
       "{('아', 0, 1): 1,\n",
       " ('아이', 0, 2): 1.7038511414698876,\n",
       " ('아이오', 0, 3): 2.7113379243785083,\n",
       " ('아이오아', 0, 4): 3.195275103304904,\n",
       " ('아이오아이', 0, 5): 3.4980323139102243,\n",
       " ('아이오아이가', 0, 6): 4.6662161132798365}"
      ]
     },
     "execution_count": 9,
     "metadata": {},
     "output_type": "execute_result"
    }
   ],
   "source": [
    "g[('BOS', )]"
   ]
  },
  {
   "cell_type": "code",
   "execution_count": 10,
   "metadata": {},
   "outputs": [
    {
     "name": "stdout",
     "output_type": "stream",
     "text": [
      "뮤직뱅크 = 0.2211725642420726\n",
      "뮤직 = 0.58887171561051\n",
      "뱅크 = 0.8176470588235294\n"
     ]
    }
   ],
   "source": [
    "for word in '뮤직뱅크 뮤직 뱅크'.split():\n",
    "    print('{} = {}'.format(word, cohesion[word]))"
   ]
  },
  {
   "cell_type": "code",
   "execution_count": 11,
   "metadata": {},
   "outputs": [
    {
     "data": {
      "text/plain": [
       "{'cost': 13.582573597695621,\n",
       " 'paths': [[('BOS',),\n",
       "   ('아이오아이', 0, 5),\n",
       "   ('가', 5, 6),\n",
       "   ('뮤직', 6, 8),\n",
       "   ('뱅크', 8, 10),\n",
       "   ('에', 10, 11),\n",
       "   ('출연', 11, 13),\n",
       "   ('했습니다', 13, 17),\n",
       "   ('EOS',)]]}"
      ]
     },
     "execution_count": 11,
     "metadata": {},
     "output_type": "execute_result"
    }
   ],
   "source": [
    "from shortestpath import ford\n",
    "\n",
    "bos = ('BOS',)\n",
    "eos = ('EOS',)\n",
    "ford(g, bos, eos)"
   ]
  },
  {
   "cell_type": "code",
   "execution_count": 12,
   "metadata": {},
   "outputs": [
    {
     "name": "stdout",
     "output_type": "stream",
     "text": [
      "training was done with 223435 sents... \n"
     ]
    }
   ],
   "source": [
    "from cohesion_tokenizer import CohesionGraphWordSegmentor\n",
    "\n",
    "word_segmentor = CohesionGraphWordSegmentor()\n",
    "word_segmentor.train(sents)"
   ]
  },
  {
   "cell_type": "code",
   "execution_count": 13,
   "metadata": {},
   "outputs": [
    {
     "data": {
      "text/plain": [
       "True"
      ]
     },
     "execution_count": 13,
     "metadata": {},
     "output_type": "execute_result"
    }
   ],
   "source": [
    "word_segmentor.is_trained"
   ]
  },
  {
   "cell_type": "code",
   "execution_count": 14,
   "metadata": {},
   "outputs": [
    {
     "data": {
      "text/plain": [
       "{'cost': 13.582573597695621,\n",
       " 'paths': [[('BOS',),\n",
       "   ('아이오아이', 0, 5),\n",
       "   ('가', 5, 6),\n",
       "   ('뮤직', 6, 8),\n",
       "   ('뱅크', 8, 10),\n",
       "   ('에', 10, 11),\n",
       "   ('출연', 11, 13),\n",
       "   ('했습니다', 13, 17),\n",
       "   ('EOS',)]]}"
      ]
     },
     "execution_count": 14,
     "metadata": {},
     "output_type": "execute_result"
    }
   ],
   "source": [
    "word_segmentor.tokenize(sent)"
   ]
  },
  {
   "cell_type": "code",
   "execution_count": 15,
   "metadata": {},
   "outputs": [
    {
     "name": "stdout",
     "output_type": "stream",
     "text": [
      "0.0.46\n"
     ]
    },
    {
     "data": {
      "text/plain": [
       "['아이오아이', '가', '뮤직', '뱅크', '에', '출연', '했습니다']"
      ]
     },
     "execution_count": 15,
     "metadata": {},
     "output_type": "execute_result"
    }
   ],
   "source": [
    "import soynlp\n",
    "print(soynlp.__version__)\n",
    "\n",
    "from soynlp.tokenizer import MaxScoreTokenizer\n",
    "\n",
    "tokenizer = MaxScoreTokenizer(scores = cohesion._scores)\n",
    "tokenizer.tokenize(sent)"
   ]
  },
  {
   "cell_type": "code",
   "execution_count": 16,
   "metadata": {},
   "outputs": [
    {
     "data": {
      "text/plain": [
       "[[('아이오아이', 0, 5, 0.30039353721795514, 5),\n",
       "  ('가', 5, 6, 0.0, 1),\n",
       "  ('뮤직', 6, 8, 0.58887171561051, 2),\n",
       "  ('뱅크', 8, 10, 0.8176470588235294, 2),\n",
       "  ('에', 10, 11, 0.0, 1),\n",
       "  ('출연', 11, 13, 0.271523178807947, 2),\n",
       "  ('했습니다', 13, 17, 0.3898437024326576, 4)]]"
      ]
     },
     "execution_count": 16,
     "metadata": {},
     "output_type": "execute_result"
    }
   ],
   "source": [
    "tokenizer.tokenize(sent, flatten=False)"
   ]
  },
  {
   "cell_type": "code",
   "execution_count": null,
   "metadata": {
    "collapsed": true
   },
   "outputs": [],
   "source": []
  }
 ],
 "metadata": {
  "kernelspec": {
   "display_name": "Python 3",
   "language": "python",
   "name": "python3"
  },
  "language_info": {
   "codemirror_mode": {
    "name": "ipython",
    "version": 3
   },
   "file_extension": ".py",
   "mimetype": "text/x-python",
   "name": "python",
   "nbconvert_exporter": "python",
   "pygments_lexer": "ipython3",
   "version": "3.6.2"
  }
 },
 "nbformat": 4,
 "nbformat_minor": 2
}
