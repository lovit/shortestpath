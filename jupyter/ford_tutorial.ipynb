{
 "cells": [
  {
   "cell_type": "markdown",
   "metadata": {},
   "source": [
    "이 예시는 https://lovit.github.io/nlp/graph/2018/08/21/ford_for_shortestpath/ 에 포함된 코드입니다."
   ]
  },
  {
   "cell_type": "code",
   "execution_count": 1,
   "metadata": {
    "collapsed": true
   },
   "outputs": [],
   "source": [
    "from pprint import pprint\n",
    "\n",
    "g = {'교대': {'동대문운동장': 34.0, '사당': 7.0, '충무로': 18.0},\n",
    " '동대문운동장': {'교대': 34.0, '을지로3가': 3.0, '충무로': 2.0},\n",
    " '사당': {'교대': 7.0, '서울역': 16.0, '신도림': 17.0},\n",
    " '서울역': {'사당': 16.0, '시청': 2.0, '신도림': 17.0, '충무로': 5.0},\n",
    " '시청': {'서울역': 2.0, '신도림': 23.0, '을지로3가': 4.0},\n",
    " '신도림': {'사당': 17.0, '서울역': 17.0, '시청': 23.0},\n",
    " '을지로3가': {'동대문운동장': 3.0, '시청': 4.0, '충무로': 1.0},\n",
    " '충무로': {'교대': 18.0, '동대문운동장': 2.0, '서울역': 5.0, '을지로3가': 1.0}}"
   ]
  },
  {
   "cell_type": "code",
   "execution_count": 2,
   "metadata": {},
   "outputs": [
    {
     "name": "stdout",
     "output_type": "stream",
     "text": [
      "{'사당', '동대문운동장', '신도림', '서울역', '을지로3가', '시청', '충무로', '교대'}\n"
     ]
    }
   ],
   "source": [
    "nodes = {source for source in g}\n",
    "nodes.update({dest for destinations in g.values() for dest in destinations})\n",
    "print(nodes)"
   ]
  },
  {
   "cell_type": "code",
   "execution_count": 3,
   "metadata": {},
   "outputs": [
    {
     "name": "stdout",
     "output_type": "stream",
     "text": [
      "n_nodes = 8, n_edges = 26\n"
     ]
    }
   ],
   "source": [
    "n_nodes = len(nodes)\n",
    "n_edges = sum((len(destinations) for destinations in g.values()))\n",
    "print('n_nodes = {}, n_edges = {}'.format(n_nodes, n_edges))"
   ]
  },
  {
   "cell_type": "code",
   "execution_count": 4,
   "metadata": {},
   "outputs": [
    {
     "name": "stdout",
     "output_type": "stream",
     "text": [
      "34.0 280.0\n"
     ]
    }
   ],
   "source": [
    "max_cost =  max(w for nw in g.values() for w in nw.values())\n",
    "init_cost = n_nodes * (max_cost + 1)\n",
    "print(max_cost, init_cost)"
   ]
  },
  {
   "cell_type": "code",
   "execution_count": 5,
   "metadata": {},
   "outputs": [
    {
     "name": "stdout",
     "output_type": "stream",
     "text": [
      "{'교대': 280.0,\n",
      " '동대문운동장': 280.0,\n",
      " '사당': 280.0,\n",
      " '서울역': 280.0,\n",
      " '시청': 0,\n",
      " '신도림': 280.0,\n",
      " '을지로3가': 280.0,\n",
      " '충무로': 280.0}\n"
     ]
    }
   ],
   "source": [
    "def initialize(start):\n",
    "    cost = {node:(0 if node == start else init_cost) for node in nodes}\n",
    "    return cost\n",
    "\n",
    "cost = initialize('시청')\n",
    "pprint(cost)"
   ]
  },
  {
   "cell_type": "code",
   "execution_count": 6,
   "metadata": {},
   "outputs": [
    {
     "name": "stdout",
     "output_type": "stream",
     "text": [
      "시청 -> 서울역 : 280.0 -> 2.0\n",
      "시청 -> 신도림 : 280.0 -> 23.0\n",
      "시청 -> 을지로3가 : 280.0 -> 4.0\n",
      "신도림 -> 사당 : 280.0 -> 40.0\n",
      "을지로3가 -> 동대문운동장 : 280.0 -> 7.0\n",
      "을지로3가 -> 충무로 : 280.0 -> 5.0\n",
      "충무로 -> 교대 : 280.0 -> 23.0\n",
      "{'교대': 23.0,\n",
      " '동대문운동장': 7.0,\n",
      " '사당': 40.0,\n",
      " '서울역': 2.0,\n",
      " '시청': 0,\n",
      " '신도림': 23.0,\n",
      " '을지로3가': 4.0,\n",
      " '충무로': 5.0}\n"
     ]
    }
   ],
   "source": [
    "def update(cost):\n",
    "    changed = False\n",
    "    for from_, to_weight in g.items():\n",
    "        for to_, weight in to_weight.items():\n",
    "            if cost[to_] > cost[from_] + weight:\n",
    "                before = cost[to_]\n",
    "                after = cost[from_] + weight\n",
    "                cost[to_] = after\n",
    "                changed = True\n",
    "                print('{} -> {} : {} -> {}'.format(from_, to_, before, after))\n",
    "    return cost, changed\n",
    "\n",
    "cost, changed = update(cost)\n",
    "pprint(cost)"
   ]
  },
  {
   "cell_type": "code",
   "execution_count": 7,
   "metadata": {},
   "outputs": [
    {
     "name": "stdout",
     "output_type": "stream",
     "text": [
      "시청 -> 서울역 : 280.0 -> 2.0\n",
      "시청 -> 신도림 : 280.0 -> 23.0\n",
      "시청 -> 을지로3가 : 280.0 -> 4.0\n",
      "신도림 -> 사당 : 280.0 -> 40.0\n",
      "을지로3가 -> 동대문운동장 : 280.0 -> 7.0\n",
      "을지로3가 -> 충무로 : 280.0 -> 5.0\n",
      "충무로 -> 교대 : 280.0 -> 23.0\n",
      "교대 -> 사당 : 40.0 -> 30.0\n",
      "서울역 -> 사당 : 30.0 -> 18.0\n",
      "서울역 -> 신도림 : 23.0 -> 19.0\n"
     ]
    },
    {
     "data": {
      "text/plain": [
       "18.0"
      ]
     },
     "execution_count": 7,
     "metadata": {},
     "output_type": "execute_result"
    }
   ],
   "source": [
    "def ford(start, destination):\n",
    "    cost = initialize(start)\n",
    "    for _ in range(n_nodes):\n",
    "        cost, changed = update(cost)\n",
    "        if not changed:\n",
    "            break\n",
    "    return cost\n",
    "\n",
    "ford('시청', '사당')['사당']"
   ]
  },
  {
   "cell_type": "code",
   "execution_count": 8,
   "metadata": {},
   "outputs": [
    {
     "data": {
      "text/plain": [
       "[['시청', '신도림', '사당']]"
      ]
     },
     "execution_count": 8,
     "metadata": {},
     "output_type": "execute_result"
    }
   ],
   "source": [
    "def path_finder(start, dest, cost):\n",
    "    immatures = [[start]]\n",
    "    mature = []\n",
    "    for _ in range(n_nodes):\n",
    "        immatures_ = []\n",
    "        for path in immatures:\n",
    "            last = path[-1]\n",
    "            for adjacent, c in g[last].items():\n",
    "                if cost[adjacent] == cost[last] + c:\n",
    "                    if adjacent == dest:\n",
    "                        mature.append([p for p in path] + [adjacent])\n",
    "                    else:\n",
    "                        immatures_.append([p for p in path] + [adjacent])\n",
    "        immatures = immatures_\n",
    "    return mature\n",
    "\n",
    "path_finder('시청', '사당', cost)"
   ]
  },
  {
   "cell_type": "code",
   "execution_count": null,
   "metadata": {
    "collapsed": true
   },
   "outputs": [],
   "source": []
  }
 ],
 "metadata": {
  "kernelspec": {
   "display_name": "Python 3",
   "language": "python",
   "name": "python3"
  },
  "language_info": {
   "codemirror_mode": {
    "name": "ipython",
    "version": 3
   },
   "file_extension": ".py",
   "mimetype": "text/x-python",
   "name": "python",
   "nbconvert_exporter": "python",
   "pygments_lexer": "ipython3",
   "version": "3.6.2"
  }
 },
 "nbformat": 4,
 "nbformat_minor": 2
}
