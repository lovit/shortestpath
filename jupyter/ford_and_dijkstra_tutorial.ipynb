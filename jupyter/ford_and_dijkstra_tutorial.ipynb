{
 "cells": [
  {
   "cell_type": "code",
   "execution_count": 1,
   "metadata": {
    "collapsed": false
   },
   "outputs": [],
   "source": [
    "import sys\n",
    "sys.path.append('../')\n",
    "\n",
    "import shortestpath"
   ]
  },
  {
   "cell_type": "code",
   "execution_count": 2,
   "metadata": {
    "collapsed": true
   },
   "outputs": [],
   "source": [
    "from shortestpath import load_sparse_graph_and_index\n",
    "from shortestpath import sparse_to_dict_graph\n",
    "\n",
    "x, idx2vocab = load_sparse_graph_and_index('../data/subway_line2')\n",
    "g = sparse_to_dict_graph(x, idx2vocab)"
   ]
  },
  {
   "cell_type": "code",
   "execution_count": 3,
   "metadata": {
    "collapsed": false
   },
   "outputs": [
    {
     "data": {
      "text/plain": [
       "{'교대': {'동대문운동장': 34.0, '사당': 7.0, '충무로': 18.0},\n",
       " '동대문운동장': {'교대': 34.0, '을지로3가': 3.0, '충무로': 2.0},\n",
       " '사당': {'교대': 7.0, '서울역': 16.0, '신도림': 17.0},\n",
       " '서울역': {'사당': 16.0, '시청': 2.0, '신도림': 17.0, '충무로': 5.0},\n",
       " '시청': {'서울역': 2.0, '신도림': 23.0, '을지로3가': 4.0},\n",
       " '신도림': {'사당': 17.0, '서울역': 17.0, '시청': 23.0},\n",
       " '을지로3가': {'동대문운동장': 3.0, '시청': 4.0, '충무로': 1.0},\n",
       " '충무로': {'교대': 18.0, '동대문운동장': 2.0, '서울역': 5.0, '을지로3가': 1.0}}"
      ]
     },
     "execution_count": 3,
     "metadata": {},
     "output_type": "execute_result"
    }
   ],
   "source": [
    "g"
   ]
  },
  {
   "cell_type": "code",
   "execution_count": 4,
   "metadata": {
    "collapsed": false
   },
   "outputs": [
    {
     "name": "stdout",
     "output_type": "stream",
     "text": [
      "cost[서울역]: 280.0 -> 2.0 (from 시청)\n",
      "cost[신도림]: 280.0 -> 23.0 (from 시청)\n",
      "cost[을지로3가]: 280.0 -> 4.0 (from 시청)\n",
      "cost[신도림]: 23.0 -> 19.0 (from 서울역)\n",
      "cost[충무로]: 280.0 -> 7.0 (from 서울역)\n",
      "cost[사당]: 280.0 -> 18.0 (from 서울역)\n",
      "cost[교대]: 280.0 -> 25.0 (from 충무로)\n",
      "cost[동대문운동장]: 280.0 -> 9.0 (from 충무로)\n",
      "cost[충무로]: 7.0 -> 5.0 (from 을지로3가)\n",
      "cost[동대문운동장]: 9.0 -> 7.0 (from 을지로3가)\n",
      "cost[교대]: 25.0 -> 23.0 (from 충무로)\n"
     ]
    },
    {
     "data": {
      "text/plain": [
       "{'cost': 23.0, 'paths': [['시청', '을지로3가', '충무로', '교대']]}"
      ]
     },
     "execution_count": 4,
     "metadata": {},
     "output_type": "execute_result"
    }
   ],
   "source": [
    "from shortestpath import ford\n",
    "    \n",
    "ford(g, '시청', '교대', debug=True)"
   ]
  },
  {
   "cell_type": "code",
   "execution_count": 5,
   "metadata": {
    "collapsed": false
   },
   "outputs": [
    {
     "name": "stdout",
     "output_type": "stream",
     "text": [
      "cost[서울역]: 280.0 -> 2.0 (from 시청)\n",
      "cost[신도림]: 280.0 -> 23.0 (from 시청)\n",
      "cost[을지로3가]: 280.0 -> 4.0 (from 시청)\n",
      "\n",
      "cost[신도림]: 23.0 -> 19.0 (from 서울역)\n",
      "cost[충무로]: 280.0 -> 7.0 (from 서울역)\n",
      "cost[사당]: 280.0 -> 18.0 (from 서울역)\n",
      "\n",
      "cost[충무로]: 7.0 -> 5.0 (from 을지로3가)\n",
      "cost[동대문운동장]: 280.0 -> 7.0 (from 을지로3가)\n",
      "\n",
      "cost[교대]: 280.0 -> 23.0 (from 충무로)\n",
      "\n",
      "\n"
     ]
    },
    {
     "data": {
      "text/plain": [
       "{'cost': 23.0, 'paths': [['시청', '을지로3가', '충무로', '교대']]}"
      ]
     },
     "execution_count": 5,
     "metadata": {},
     "output_type": "execute_result"
    }
   ],
   "source": [
    "from shortestpath import dijkstra\n",
    "\n",
    "dijkstra(g, '시청', '교대', debug=True)"
   ]
  },
  {
   "cell_type": "code",
   "execution_count": null,
   "metadata": {
    "collapsed": true
   },
   "outputs": [],
   "source": []
  }
 ],
 "metadata": {
  "anaconda-cloud": {},
  "kernelspec": {
   "display_name": "Python [lovit]",
   "language": "python",
   "name": "Python [lovit]"
  },
  "language_info": {
   "codemirror_mode": {
    "name": "ipython",
    "version": 3
   },
   "file_extension": ".py",
   "mimetype": "text/x-python",
   "name": "python",
   "nbconvert_exporter": "python",
   "pygments_lexer": "ipython3",
   "version": "3.5.2"
  }
 },
 "nbformat": 4,
 "nbformat_minor": 0
}
