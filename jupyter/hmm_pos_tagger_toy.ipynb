{
 "cells": [
  {
   "cell_type": "code",
   "execution_count": 1,
   "metadata": {
    "collapsed": false
   },
   "outputs": [],
   "source": [
    "import sys\n",
    "sys.path.append('../')\n",
    "\n",
    "import shortestpath\n",
    "import hmm_pos_tagger"
   ]
  },
  {
   "cell_type": "markdown",
   "metadata": {
    "collapsed": true
   },
   "source": [
    "## simple tokenizer"
   ]
  },
  {
   "cell_type": "code",
   "execution_count": 2,
   "metadata": {
    "collapsed": false
   },
   "outputs": [],
   "source": [
    "from hmm_pos_tagger import Dictionary\n",
    "\n",
    "pos2words = {\n",
    "    'Noun': set('아이 아이오 아이오아이 청하 출신'.split()),\n",
    "    'Josa': set('은 는 이 가 의 를 을'.split()),\n",
    "    'Verb': set('청하 이 있 하 했 입'.split()),\n",
    "    'Eomi': set('다 었다 는 니다'.split())\n",
    "}\n",
    "\n",
    "dictionary = Dictionary(pos2words)"
   ]
  },
  {
   "cell_type": "code",
   "execution_count": 3,
   "metadata": {
    "collapsed": false
   },
   "outputs": [],
   "source": [
    "from hmm_pos_tagger import TrainedHMM\n",
    "from hmm_pos_tagger import WordSequenceGraph\n",
    "\n",
    "transition = {\n",
    "    ('Noun', 'Josa'): 0.7,\n",
    "    ('Noun', 'Noun'): 0.3,\n",
    "    ('Verb', 'Eomi'): 0.5,\n",
    "    ('Verb', 'Noun'): 0.5,\n",
    "    ('Verb', 'Josa'): -0.1,\n",
    "}\n",
    "generation = {\n",
    "    'Noun': {\n",
    "        '아이오아이': 0.5,\n",
    "        '청하': 0.2,\n",
    "    }\n",
    "}\n",
    "\n",
    "hmm_model = TrainedHMM(transition, generation)\n",
    "lookuper = WordSequenceGraph(dictionary, hmm_model)"
   ]
  },
  {
   "cell_type": "code",
   "execution_count": 4,
   "metadata": {
    "collapsed": false
   },
   "outputs": [
    {
     "name": "stdout",
     "output_type": "stream",
     "text": [
      "Look-up words\n",
      "0 [('청하', 'Verb', 0, 2), ('청하', 'Noun', 0, 2)]\n",
      "1 [('하', 'Verb', 1, 2)]\n",
      "2 [('는', 'Eomi', 2, 3), ('는', 'Josa', 2, 3)]\n",
      "3 [('아이', 'Noun', 3, 5), ('아이오', 'Noun', 3, 6), ('아이오아이', 'Noun', 3, 8)]\n",
      "4 [('이', 'Verb', 4, 5), ('이', 'Josa', 4, 5)]\n",
      "5 []\n",
      "6 [('아이', 'Noun', 6, 8)]\n",
      "7 [('이', 'Verb', 7, 8), ('이', 'Josa', 7, 8)]\n",
      "8 [('의', 'Josa', 8, 9)]\n",
      "9 [('출신', 'Noun', 9, 11)]\n",
      "10 []\n",
      "11 [('입', 'Verb', 11, 12)]\n",
      "12 [('니다', 'Eomi', 12, 14)]\n",
      "13 [('다', 'Eomi', 13, 14)]\n",
      "14 [('EOS', 'EOS', 15, 15)]\n",
      "\n",
      "Edges\n",
      "(('BOS', 'BOS', 0, 0), ('청하', 'Verb', 0, 2), -0.00030000000000000003)\n",
      "(('BOS', 'BOS', 0, 0), ('청하', 'Noun', 0, 2), -0.2003)\n",
      "(('청하', 'Verb', 0, 2), ('는', 'Eomi', 2, 3), -0.5003)\n",
      "(('청하', 'Verb', 0, 2), ('는', 'Josa', 2, 3), 0.0997)\n",
      "(('청하', 'Noun', 0, 2), ('는', 'Eomi', 2, 3), -0.20029999999999998)\n",
      "(('청하', 'Noun', 0, 2), ('는', 'Josa', 2, 3), -0.9002999999999999)\n",
      "(('하', 'Verb', 1, 2), ('는', 'Eomi', 2, 3), -0.5003)\n",
      "(('하', 'Verb', 1, 2), ('는', 'Josa', 2, 3), 0.0997)\n",
      "(('는', 'Eomi', 2, 3), ('아이', 'Noun', 3, 5), -0.00030000000000000003)\n",
      "(('는', 'Josa', 2, 3), ('아이', 'Noun', 3, 5), -0.00030000000000000003)\n",
      "(('는', 'Eomi', 2, 3), ('아이오', 'Noun', 3, 6), -0.00030000000000000003)\n",
      "(('는', 'Josa', 2, 3), ('아이오', 'Noun', 3, 6), -0.00030000000000000003)\n",
      "(('는', 'Eomi', 2, 3), ('아이오아이', 'Noun', 3, 8), -0.5003)\n",
      "(('는', 'Josa', 2, 3), ('아이오아이', 'Noun', 3, 8), -0.5003)\n",
      "(('아이', 'Noun', 3, 5), ('오', 'Unk', 5, 6), -0.00030000000000000003)\n",
      "(('아이오', 'Noun', 3, 6), ('아이', 'Noun', 6, 8), -0.30029999999999996)\n",
      "(('아이오아이', 'Noun', 3, 8), ('의', 'Josa', 8, 9), -1.2003)\n",
      "(('이', 'Verb', 4, 5), ('오', 'Unk', 5, 6), -0.00030000000000000003)\n",
      "(('이', 'Josa', 4, 5), ('오', 'Unk', 5, 6), -0.00030000000000000003)\n",
      "(('오', 'Unk', 5, 6), ('아이', 'Noun', 6, 8), -0.00030000000000000003)\n",
      "(('아이', 'Noun', 6, 8), ('의', 'Josa', 8, 9), -0.7002999999999999)\n",
      "(('이', 'Verb', 7, 8), ('의', 'Josa', 8, 9), 0.0997)\n",
      "(('이', 'Josa', 7, 8), ('의', 'Josa', 8, 9), -0.00030000000000000003)\n",
      "(('의', 'Josa', 8, 9), ('출신', 'Noun', 9, 11), -0.00030000000000000003)\n",
      "(('출신', 'Noun', 9, 11), ('입', 'Verb', 11, 12), -0.00030000000000000003)\n",
      "(('입', 'Verb', 11, 12), ('니다', 'Eomi', 12, 14), -0.5003)\n",
      "(('니다', 'Eomi', 12, 14), ('EOS', 'EOS', 15, 15), -0.00030000000000000003)\n",
      "(('다', 'Eomi', 13, 14), ('EOS', 'EOS', 15, 15), -0.00030000000000000003)\n"
     ]
    }
   ],
   "source": [
    "sentence = '청하는 아이오아이의 출신입니다'\n",
    "encoded_graph, idx2node, graph, sent = lookuper.as_graph(sentence)\n",
    "\n",
    "print('Look-up words')\n",
    "for i, words in enumerate(sent):\n",
    "    print(i, words)\n",
    "\n",
    "print('\\nEdges')\n",
    "for edge in graph:\n",
    "    print(edge)"
   ]
  },
  {
   "cell_type": "code",
   "execution_count": 5,
   "metadata": {
    "collapsed": false
   },
   "outputs": [
    {
     "data": {
      "text/plain": [
       "{('BOS', 'BOS', 0, 0): {('청하', 'Noun', 0, 2): -0.2003,\n",
       "  ('청하', 'Verb', 0, 2): -0.00030000000000000003},\n",
       " ('는', 'Eomi', 2, 3): {('아이', 'Noun', 3, 5): -0.00030000000000000003,\n",
       "  ('아이오', 'Noun', 3, 6): -0.00030000000000000003,\n",
       "  ('아이오아이', 'Noun', 3, 8): -0.5003},\n",
       " ('는', 'Josa', 2, 3): {('아이', 'Noun', 3, 5): -0.00030000000000000003,\n",
       "  ('아이오', 'Noun', 3, 6): -0.00030000000000000003,\n",
       "  ('아이오아이', 'Noun', 3, 8): -0.5003},\n",
       " ('니다', 'Eomi', 12, 14): {('EOS', 'EOS', 15, 15): -0.00030000000000000003},\n",
       " ('다', 'Eomi', 13, 14): {('EOS', 'EOS', 15, 15): -0.00030000000000000003},\n",
       " ('아이', 'Noun', 3, 5): {('오', 'Unk', 5, 6): -0.00030000000000000003},\n",
       " ('아이', 'Noun', 6, 8): {('의', 'Josa', 8, 9): -0.7002999999999999},\n",
       " ('아이오', 'Noun', 3, 6): {('아이', 'Noun', 6, 8): -0.30029999999999996},\n",
       " ('아이오아이', 'Noun', 3, 8): {('의', 'Josa', 8, 9): -1.2003},\n",
       " ('오', 'Unk', 5, 6): {('아이', 'Noun', 6, 8): -0.00030000000000000003},\n",
       " ('의', 'Josa', 8, 9): {('출신', 'Noun', 9, 11): -0.00030000000000000003},\n",
       " ('이', 'Josa', 4, 5): {('오', 'Unk', 5, 6): -0.00030000000000000003},\n",
       " ('이', 'Josa', 7, 8): {('의', 'Josa', 8, 9): -0.00030000000000000003},\n",
       " ('이', 'Verb', 4, 5): {('오', 'Unk', 5, 6): -0.00030000000000000003},\n",
       " ('이', 'Verb', 7, 8): {('의', 'Josa', 8, 9): 0.0997},\n",
       " ('입', 'Verb', 11, 12): {('니다', 'Eomi', 12, 14): -0.5003},\n",
       " ('청하', 'Noun', 0, 2): {('는', 'Eomi', 2, 3): -0.20029999999999998,\n",
       "  ('는', 'Josa', 2, 3): -0.9002999999999999},\n",
       " ('청하', 'Verb', 0, 2): {('는', 'Eomi', 2, 3): -0.5003,\n",
       "  ('는', 'Josa', 2, 3): 0.0997},\n",
       " ('출신', 'Noun', 9, 11): {('입', 'Verb', 11, 12): -0.00030000000000000003},\n",
       " ('하', 'Verb', 1, 2): {('는', 'Eomi', 2, 3): -0.5003,\n",
       "  ('는', 'Josa', 2, 3): 0.0997}}"
      ]
     },
     "execution_count": 5,
     "metadata": {},
     "output_type": "execute_result"
    }
   ],
   "source": [
    "from shortestpath import list_to_dict_graph\n",
    "\n",
    "g_dict = list_to_dict_graph(graph)\n",
    "g_dict"
   ]
  },
  {
   "cell_type": "code",
   "execution_count": 6,
   "metadata": {
    "collapsed": false
   },
   "outputs": [
    {
     "name": "stdout",
     "output_type": "stream",
     "text": [
      "cost[('청하', 'Verb', 0, 2) -> ('는', 'Eomi', 2, 3)] = 23.0937 -> 22.5934\n",
      "cost[('BOS', 'BOS', 0, 0) -> ('청하', 'Verb', 0, 2)] = 23.0937 -> -0.00030000000000000003\n",
      "cost[('BOS', 'BOS', 0, 0) -> ('청하', 'Noun', 0, 2)] = 23.0937 -> -0.2003\n",
      "cost[('니다', 'Eomi', 12, 14) -> ('EOS', 'EOS', 15, 15)] = 23.0937 -> 23.0934\n",
      "cost[('아이', 'Noun', 3, 5) -> ('오', 'Unk', 5, 6)] = 23.0937 -> 23.0934\n",
      "cost[('출신', 'Noun', 9, 11) -> ('입', 'Verb', 11, 12)] = 23.0937 -> 23.0934\n",
      "cost[('오', 'Unk', 5, 6) -> ('아이', 'Noun', 6, 8)] = 23.0937 -> 23.0931\n",
      "cost[('아이', 'Noun', 6, 8) -> ('의', 'Josa', 8, 9)] = 23.0937 -> 22.3928\n",
      "cost[('아이오', 'Noun', 3, 6) -> ('아이', 'Noun', 6, 8)] = 23.0931 -> 22.7934\n",
      "cost[('는', 'Eomi', 2, 3) -> ('아이오', 'Noun', 3, 6)] = 23.0937 -> 22.5931\n",
      "cost[('는', 'Eomi', 2, 3) -> ('아이', 'Noun', 3, 5)] = 23.0937 -> 22.5931\n",
      "cost[('는', 'Eomi', 2, 3) -> ('아이오아이', 'Noun', 3, 8)] = 23.0937 -> 22.0931\n",
      "cost[('청하', 'Noun', 0, 2) -> ('는', 'Eomi', 2, 3)] = 22.5934 -> -0.40059999999999996\n",
      "cost[('청하', 'Noun', 0, 2) -> ('는', 'Josa', 2, 3)] = 23.0937 -> -1.1005999999999998\n",
      "cost[('입', 'Verb', 11, 12) -> ('니다', 'Eomi', 12, 14)] = 23.0937 -> 22.5931\n",
      "cost[('의', 'Josa', 8, 9) -> ('출신', 'Noun', 9, 11)] = 23.0937 -> 22.392500000000002\n",
      "cost[('는', 'Josa', 2, 3) -> ('아이오', 'Noun', 3, 6)] = 22.5931 -> -1.1008999999999998\n",
      "cost[('는', 'Josa', 2, 3) -> ('아이', 'Noun', 3, 5)] = 22.5931 -> -1.1008999999999998\n",
      "cost[('는', 'Josa', 2, 3) -> ('아이오아이', 'Noun', 3, 8)] = 22.0931 -> -1.6008999999999998\n",
      "cost[('아이오아이', 'Noun', 3, 8) -> ('의', 'Josa', 8, 9)] = 22.3928 -> -2.8011999999999997\n",
      "cost[('청하', 'Verb', 0, 2) -> ('는', 'Eomi', 2, 3)] = -0.40059999999999996 -> -0.5005999999999999\n",
      "cost[('니다', 'Eomi', 12, 14) -> ('EOS', 'EOS', 15, 15)] = 23.0934 -> 22.5928\n",
      "cost[('아이', 'Noun', 3, 5) -> ('오', 'Unk', 5, 6)] = 23.0934 -> -1.1011999999999997\n",
      "cost[('출신', 'Noun', 9, 11) -> ('입', 'Verb', 11, 12)] = 23.0934 -> 22.392200000000003\n",
      "cost[('오', 'Unk', 5, 6) -> ('아이', 'Noun', 6, 8)] = 22.7934 -> -1.1014999999999997\n",
      "cost[('아이오', 'Noun', 3, 6) -> ('아이', 'Noun', 6, 8)] = -1.1014999999999997 -> -1.4011999999999998\n",
      "cost[('입', 'Verb', 11, 12) -> ('니다', 'Eomi', 12, 14)] = 22.5931 -> 21.891900000000003\n",
      "cost[('의', 'Josa', 8, 9) -> ('출신', 'Noun', 9, 11)] = 22.392500000000002 -> -2.8015\n",
      "cost[('니다', 'Eomi', 12, 14) -> ('EOS', 'EOS', 15, 15)] = 22.5928 -> 21.891600000000004\n",
      "cost[('출신', 'Noun', 9, 11) -> ('입', 'Verb', 11, 12)] = 22.392200000000003 -> -2.8018\n",
      "cost[('입', 'Verb', 11, 12) -> ('니다', 'Eomi', 12, 14)] = 21.891900000000003 -> -3.3021000000000003\n",
      "cost[('니다', 'Eomi', 12, 14) -> ('EOS', 'EOS', 15, 15)] = 21.891600000000004 -> -3.3024000000000004\n"
     ]
    },
    {
     "data": {
      "text/plain": [
       "{'cost': -3.3024000000000004,\n",
       " 'paths': [[('BOS', 'BOS', 0, 0),\n",
       "   ('청하', 'Noun', 0, 2),\n",
       "   ('는', 'Josa', 2, 3),\n",
       "   ('아이오아이', 'Noun', 3, 8),\n",
       "   ('의', 'Josa', 8, 9),\n",
       "   ('출신', 'Noun', 9, 11),\n",
       "   ('입', 'Verb', 11, 12),\n",
       "   ('니다', 'Eomi', 12, 14),\n",
       "   ('EOS', 'EOS', 15, 15)]]}"
      ]
     },
     "execution_count": 6,
     "metadata": {},
     "output_type": "execute_result"
    }
   ],
   "source": [
    "from shortestpath import ford\n",
    "\n",
    "# bos = 0\n",
    "# eos = 19\n",
    "bos = ('BOS', 'BOS', 0, 0)\n",
    "eos = ('EOS', 'EOS', 15, 15)\n",
    "ford(g_dict, bos, eos, debug=True)"
   ]
  },
  {
   "cell_type": "code",
   "execution_count": null,
   "metadata": {
    "collapsed": true
   },
   "outputs": [],
   "source": []
  }
 ],
 "metadata": {
  "kernelspec": {
   "display_name": "Python [lovit]",
   "language": "python",
   "name": "Python [lovit]"
  },
  "language_info": {
   "codemirror_mode": {
    "name": "ipython",
    "version": 3
   },
   "file_extension": ".py",
   "mimetype": "text/x-python",
   "name": "python",
   "nbconvert_exporter": "python",
   "pygments_lexer": "ipython3",
   "version": "3.5.2"
  }
 },
 "nbformat": 4,
 "nbformat_minor": 0
}
