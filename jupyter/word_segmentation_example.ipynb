{
 "cells": [
  {
   "cell_type": "code",
   "execution_count": 9,
   "metadata": {
    "collapsed": true
   },
   "outputs": [],
   "source": [
    "sent = '오늘의뉴스'\n",
    "edges = [\n",
    "    ('BOS', '오', 1),\n",
    "    ('BOS', '오늘의뉴스', 4),\n",
    "    ('오', '늘', 1),\n",
    "    ('늘', '의', 1),\n",
    "    ('의', '뉴', 1),\n",
    "    ('뉴', '스', 1),\n",
    "    ('스', 'EOS', 0),\n",
    "    ('BOS', '오늘', 0.9),\n",
    "    ('BOS', '오늘의', 2.1),\n",
    "    ('오늘', '의', 1),\n",
    "    ('의', '뉴스', 0.5),\n",
    "    ('오늘의', '뉴', 1),\n",
    "    ('오늘의', '뉴스', 0.5),\n",
    "    ('의', '뉴스', 0.5),\n",
    "    ('뉴스', 'EOS', 0),\n",
    "    ('오늘의뉴스', 'EOS', 0),\n",
    "]\n",
    "\n",
    "nodes = {node for edge in edges for node in edge[:2]}"
   ]
  },
  {
   "cell_type": "code",
   "execution_count": 10,
   "metadata": {},
   "outputs": [
    {
     "data": {
      "text/plain": [
       "{'cost': 2.4, 'paths': [['BOS', '오늘', '의', '뉴스']]}"
      ]
     },
     "execution_count": 10,
     "metadata": {},
     "output_type": "execute_result"
    }
   ],
   "source": [
    "import sys\n",
    "sys.path.append('../')\n",
    "\n",
    "from shortestpath import ford\n",
    "ford((edges, nodes), 'BOS', 'EOS')"
   ]
  },
  {
   "cell_type": "code",
   "execution_count": null,
   "metadata": {
    "collapsed": true
   },
   "outputs": [],
   "source": []
  }
 ],
 "metadata": {
  "kernelspec": {
   "display_name": "Python 3",
   "language": "python",
   "name": "python3"
  },
  "language_info": {
   "codemirror_mode": {
    "name": "ipython",
    "version": 3
   },
   "file_extension": ".py",
   "mimetype": "text/x-python",
   "name": "python",
   "nbconvert_exporter": "python",
   "pygments_lexer": "ipython3",
   "version": "3.6.2"
  }
 },
 "nbformat": 4,
 "nbformat_minor": 2
}
