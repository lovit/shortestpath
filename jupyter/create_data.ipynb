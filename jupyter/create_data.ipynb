{
 "cells": [
  {
   "cell_type": "code",
   "execution_count": 1,
   "metadata": {
    "collapsed": false
   },
   "outputs": [],
   "source": [
    "import numpy as np\n",
    "from scipy.sparse import csr_matrix\n",
    "from scipy.io import mmwrite"
   ]
  },
  {
   "cell_type": "code",
   "execution_count": 2,
   "metadata": {
    "collapsed": true
   },
   "outputs": [],
   "source": [
    "def as_dense_matrix(edges, vocab2idx, directed=True):\n",
    "\n",
    "    def add_edge(i, j, w):\n",
    "        g[i,j] = w\n",
    "\n",
    "    n = len(vocab2idx)\n",
    "    g = np.zeros((n, n))\n",
    "    for node1, node2, weight in edges:\n",
    "        try:\n",
    "            idx1 = vocab2idx[node1]\n",
    "            idx2 = vocab2idx[node2]\n",
    "            add_edge(idx1, idx2, weight)\n",
    "            if not directed:\n",
    "                add_edge(idx2, idx1, weight)\n",
    "        except:\n",
    "            print('Exception : {} -> {} : {}'.formart(\n",
    "                    node1, node2, weight))\n",
    "\n",
    "    return g\n",
    "\n",
    "def save_sparse_graph(g, idx2vocab, header):\n",
    "    g_path = '{}.mtx'.format(header)\n",
    "    index_path = '{}.vocab'.format(header)\n",
    "    mmwrite(g_path, g)\n",
    "    with open(index_path, 'w', encoding='utf-8') as f:\n",
    "        for vocab in idx2vocab:\n",
    "            f.write('{}\\n'.format(vocab))"
   ]
  },
  {
   "cell_type": "markdown",
   "metadata": {},
   "source": [
    "## subway line 2\n",
    "\n",
    "홍성필 교수님의 \"경영과학, 율곡출판사\"의 최단경로문제 예시 데이터를 sparse matrix 형식의 데이터로 만드는 코드입니다."
   ]
  },
  {
   "cell_type": "code",
   "execution_count": 3,
   "metadata": {
    "collapsed": false
   },
   "outputs": [
    {
     "name": "stdout",
     "output_type": "stream",
     "text": [
      "[[ 0. 23.  0.  0.  0. 17. 17.  0.]\n",
      " [23.  0.  4.  0.  0.  2.  0.  0.]\n",
      " [ 0.  4.  0.  3.  1.  0.  0.  0.]\n",
      " [ 0.  0.  3.  0.  2.  0.  0. 34.]\n",
      " [ 0.  0.  1.  2.  0.  5.  0. 18.]\n",
      " [17.  2.  0.  0.  5.  0. 16.  0.]\n",
      " [17.  0.  0.  0.  0. 16.  0.  7.]\n",
      " [ 0.  0.  0. 34. 18.  0.  7.  0.]]\n"
     ]
    }
   ],
   "source": [
    "idx2vocab = '신도림 시청 을지로3가 동대문운동장 충무로 서울역 사당 교대'.split()\n",
    "vocab2idx = {vocab:idx for idx, vocab in enumerate(idx2vocab)}\n",
    "\n",
    "edges = [\n",
    "    ('신도림', '시청', 23),\n",
    "    ('시청', '을지로3가', 4),\n",
    "    ('을지로3가', '동대문운동장', 3),\n",
    "    ('동대문운동장', '충무로', 2),\n",
    "    ('을지로3가', '충무로', 1),\n",
    "    ('서울역', '충무로', 5),\n",
    "    ('시청', '서울역', 2),\n",
    "    ('신도림', '서울역', 17),\n",
    "    ('신도림', '사당', 17),\n",
    "    ('서울역', '사당', 16),\n",
    "    ('사당', '교대', 7),\n",
    "    ('충무로', '교대', 18),\n",
    "    ('교대', '동대문운동장', 34)\n",
    "]\n",
    "\n",
    "g = as_dense_matrix(edges, vocab2idx, directed=False)\n",
    "print(g)"
   ]
  },
  {
   "cell_type": "code",
   "execution_count": 4,
   "metadata": {
    "collapsed": false
   },
   "outputs": [
    {
     "name": "stdout",
     "output_type": "stream",
     "text": [
      "  (0, 1)\t23.0\n",
      "  (0, 5)\t17.0\n",
      "  (0, 6)\t17.0\n",
      "  (1, 0)\t23.0\n",
      "  (1, 2)\t4.0\n",
      "  (1, 5)\t2.0\n",
      "  (2, 1)\t4.0\n",
      "  (2, 3)\t3.0\n",
      "  (2, 4)\t1.0\n",
      "  (3, 2)\t3.0\n",
      "  (3, 4)\t2.0\n",
      "  (3, 7)\t34.0\n",
      "  (4, 2)\t1.0\n",
      "  (4, 3)\t2.0\n",
      "  (4, 5)\t5.0\n",
      "  (4, 7)\t18.0\n",
      "  (5, 0)\t17.0\n",
      "  (5, 1)\t2.0\n",
      "  (5, 4)\t5.0\n",
      "  (5, 6)\t16.0\n",
      "  (6, 0)\t17.0\n",
      "  (6, 5)\t16.0\n",
      "  (6, 7)\t7.0\n",
      "  (7, 3)\t34.0\n",
      "  (7, 4)\t18.0\n",
      "  (7, 6)\t7.0\n"
     ]
    }
   ],
   "source": [
    "g_sparse = csr_matrix(g)\n",
    "print(g_sparse)"
   ]
  },
  {
   "cell_type": "code",
   "execution_count": 5,
   "metadata": {
    "collapsed": true
   },
   "outputs": [],
   "source": [
    "path_header = '../data/subway_line2'\n",
    "\n",
    "save_sparse_graph(g_sparse, idx2vocab, path_header)"
   ]
  },
  {
   "cell_type": "markdown",
   "metadata": {},
   "source": [
    "## toy data\n",
    "\n",
    "홍성필 교수님의 \"경영과학, 율곡출판사\"의 최단경로문제 예시 데이터를 sparse matrix 형식의 데이터로 만드는 코드입니다."
   ]
  },
  {
   "cell_type": "code",
   "execution_count": 9,
   "metadata": {
    "collapsed": false
   },
   "outputs": [
    {
     "name": "stdout",
     "output_type": "stream",
     "text": [
      "[[0. 2. 7. 0. 0. 0. 0.]\n",
      " [0. 0. 1. 3. 0. 0. 0.]\n",
      " [0. 0. 0. 0. 4. 5. 0.]\n",
      " [0. 0. 2. 0. 3. 0. 0.]\n",
      " [0. 0. 0. 0. 0. 4. 1.]\n",
      " [0. 0. 0. 0. 0. 0. 5.]\n",
      " [0. 0. 0. 0. 0. 0. 0.]]\n"
     ]
    }
   ],
   "source": [
    "idx2vocab = 's 2 3 4 5 6 t'.split()\n",
    "vocab2idx = {vocab:idx for idx, vocab in enumerate(idx2vocab)}\n",
    "\n",
    "edges = [\n",
    "    ('s' ,'2', 2),\n",
    "    ('s' ,'3', 7),\n",
    "    ('2' ,'4', 3),\n",
    "    ('2' ,'3', 1),\n",
    "    ('3' ,'5', 4),\n",
    "    ('3' ,'6', 5),\n",
    "    ('4' ,'3', 2),\n",
    "    ('4' ,'5', 3),\n",
    "    ('5' ,'6', 4),\n",
    "    ('5' ,'t', 1),\n",
    "    ('6', 't', 5)\n",
    "]\n",
    "\n",
    "g = as_dense_matrix(edges, vocab2idx, directed=True)\n",
    "print(g)"
   ]
  },
  {
   "cell_type": "code",
   "execution_count": 10,
   "metadata": {
    "collapsed": true
   },
   "outputs": [],
   "source": [
    "g_sparse = csr_matrix(g)\n",
    "path_header = '../data/prof_hong_toy'\n",
    "\n",
    "save_sparse_graph(g_sparse, idx2vocab, path_header)"
   ]
  },
  {
   "cell_type": "code",
   "execution_count": null,
   "metadata": {
    "collapsed": true
   },
   "outputs": [],
   "source": []
  }
 ],
 "metadata": {
  "kernelspec": {
   "display_name": "Python [lovit]",
   "language": "python",
   "name": "Python [lovit]"
  },
  "language_info": {
   "codemirror_mode": {
    "name": "ipython",
    "version": 3
   },
   "file_extension": ".py",
   "mimetype": "text/x-python",
   "name": "python",
   "nbconvert_exporter": "python",
   "pygments_lexer": "ipython3",
   "version": "3.5.2"
  }
 },
 "nbformat": 4,
 "nbformat_minor": 0
}
